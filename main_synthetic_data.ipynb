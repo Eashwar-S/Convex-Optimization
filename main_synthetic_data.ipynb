{
 "cells": [
  {
   "cell_type": "code",
   "execution_count": 1,
   "metadata": {},
   "outputs": [],
   "source": [
    "from synthetic_data import *\n",
    "from projected_gradient_descent import *\n",
    "from alternative_minimization import *\n",
    "from logdet import *\n",
    "from performance_eval import *"
   ]
  },
  {
   "cell_type": "markdown",
   "metadata": {},
   "source": [
    "## Synthetic Data"
   ]
  },
  {
   "cell_type": "code",
   "execution_count": 2,
   "metadata": {},
   "outputs": [],
   "source": [
    "n, p = 10, 100\n",
    "L_orig, X = make_data(n=n, p=p)"
   ]
  },
  {
   "cell_type": "markdown",
   "metadata": {},
   "source": [
    "## Alternative Minimization (Primal formulation for $L$)"
   ]
  },
  {
   "cell_type": "code",
   "execution_count": 3,
   "metadata": {},
   "outputs": [
    {
     "name": "stdout",
     "output_type": "stream",
     "text": [
      "iteration #0\n",
      "primal value is 17.076589371301807\n",
      "iteration-0: obj value = 16.97733547863742\n",
      "iteration #1\n",
      "primal value is 16.879220750918357\n",
      "iteration-1: obj value = 16.977299509764947\n"
     ]
    },
    {
     "data": {
      "image/png": "[encoded data removed]",
      "text/plain": [
       "<Figure size 432x288 with 2 Axes>"
      ]
     },
     "metadata": {
      "needs_background": "light"
     },
     "output_type": "display_data"
    },
    {
     "name": "stdout",
     "output_type": "stream",
     "text": [
      "condition positive:24, prediction positive:35, true_positive:23\n",
      "precision:0.6571428571428571, recall:0.9583333333333334, f-score:0.7796610169491525, NMI:0.19610892993987314, pearson R:0.7652620022180291\n"
     ]
    },
    {
     "name": "stderr",
     "output_type": "stream",
     "text": [
      "/home/psycuser/.local/lib/python3.6/site-packages/sklearn/metrics/cluster/supervised.py:859: FutureWarning: The behavior of NMI will change in version 0.22. To match the behavior of 'v_measure_score', NMI will use average_method='arithmetic' by default.\n",
      "  FutureWarning)\n"
     ]
    }
   ],
   "source": [
    "alpha = 1e-2\n",
    "beta = 10**(-0.2)\n",
    "num_iters = 10\n",
    "\n",
    "L_opt, Y_opt = alternative_minimization(X, alpha=alpha, beta=beta, num_iters=num_iters, dual=False)\n",
    "visualise_L(L_orig, L_opt)\n",
    "precision, recall, f, NMI, R = graph_learning_perf_eval(L_orig, L_opt)\n",
    "print(f\"precision:{precision}, recall:{recall}, f-score:{f}, NMI:{NMI}, pearson R:{R}\")"
   ]
  },
  {
   "cell_type": "markdown",
   "metadata": {},
   "source": [
    "## Alternative Minimization (Dual formulation for $L$)"
   ]
  },
  {
   "cell_type": "code",
   "execution_count": 4,
   "metadata": {},
   "outputs": [
    {
     "name": "stdout",
     "output_type": "stream",
     "text": [
      "iteration #0\n",
      "dual value is 17.076590070476577\n",
      "iteration-0: obj value = 16.977332518535597\n",
      "iteration #1\n",
      "dual value is 16.879220602734847\n",
      "iteration-1: obj value = 16.977300148081177\n"
     ]
    },
    {
     "data": {
      "image/png": "[encoded data removed]",
      "text/plain": [
       "<Figure size 432x288 with 2 Axes>"
      ]
     },
     "metadata": {
      "needs_background": "light"
     },
     "output_type": "display_data"
    },
    {
     "name": "stdout",
     "output_type": "stream",
     "text": [
      "condition positive:24, prediction positive:35, true_positive:23\n",
      "precision:0.6571428571428571, recall:0.9583333333333334, f-score:0.7796610169491525, NMI:0.19610892993987314, pearson R:0.7652620123754025\n"
     ]
    }
   ],
   "source": [
    "alpha = 1e-2\n",
    "beta = 10**(-0.2)\n",
    "num_iters = 10\n",
    "\n",
    "L_opt, Y_opt = alternative_minimization(X, alpha=alpha, beta=beta, num_iters=num_iters, dual=True)\n",
    "visualise_L(L_orig, L_opt)\n",
    "precision, recall, f, NMI, R = graph_learning_perf_eval(L_orig, L_opt)\n",
    "print(f\"precision:{precision}, recall:{recall}, f-score:{f}, NMI:{NMI}, pearson R:{R}\")"
   ]
  },
  {
   "cell_type": "markdown",
   "metadata": {},
   "source": [
    "## Projected Gradient Descent"
   ]
  },
  {
   "cell_type": "code",
   "execution_count": 5,
   "metadata": {},
   "outputs": [
    {
     "name": "stdout",
     "output_type": "stream",
     "text": [
      "final objective value = 16.97673714881576\n",
      "final objective value = 16.97668245119348\n",
      "final objective value = 16.976709871428195\n",
      "final objective value = 16.976631726324506\n",
      "final objective value = 16.976663465331\n",
      "final objective value = 16.976700159188983\n",
      "final objective value = 16.97662166270669\n",
      "final objective value = 16.97667973809311\n",
      "final objective value = 16.97672368453909\n",
      "final objective value = 16.97668714768166\n"
     ]
    },
    {
     "data": {
      "image/png": "[encoded data removed]",
      "text/plain": [
       "<Figure size 432x288 with 2 Axes>"
      ]
     },
     "metadata": {
      "needs_background": "light"
     },
     "output_type": "display_data"
    },
    {
     "name": "stdout",
     "output_type": "stream",
     "text": [
      "condition positive:24, prediction positive:35, true_positive:23\n",
      "precision:0.6571428571428571, recall:0.9583333333333334, f-score:0.7796610169491525, NMI:0.19610892993987314, pearson R:0.7656943635952189\n"
     ]
    }
   ],
   "source": [
    "alpha = 1e-2\n",
    "beta = 10**(-0.2)\n",
    "num_iters = 1000\n",
    "eta_L = 0.5\n",
    "eta_Y = 0.5\n",
    "    \n",
    "num_inits = 10\n",
    "objective_values = np.zeros((num_inits))\n",
    "L_opt_values = np.zeros((n, n, num_inits))\n",
    "Y_opt_values = np.zeros((n, p, num_inits))\n",
    "\n",
    "for idx_init in range(num_inits):\n",
    "\n",
    "    L_init = project_L(np.random.rand(n,n))\n",
    "\n",
    "    ret_tuple = proj_grad_descent(X, alpha=alpha, beta=beta, L_init=L_init, \n",
    "                                  num_iters=num_iters, eta_L=eta_L, eta_Y=eta_Y)\n",
    "   \n",
    "    L_opt_values[:, :, idx_init] = ret_tuple[0]\n",
    "    Y_opt_values[:, :, idx_init] = ret_tuple[1]\n",
    "    objective_values[idx_init] = ret_tuple[2]\n",
    "\n",
    "idx_init_best = np.argmin(objective_values)\n",
    "L_opt = L_opt_values[:, :, idx_init_best]\n",
    "Y_opt = Y_opt_values[:, :, idx_init_best]\n",
    "visualise_L(L_orig, L_opt)\n",
    "precision, recall, f, NMI, R = graph_learning_perf_eval(L_orig, L_opt)\n",
    "print(f\"precision:{precision}, recall:{recall}, f-score:{f}, NMI:{NMI}, pearson R:{R}\")"
   ]
  },
  {
   "cell_type": "markdown",
   "metadata": {},
   "source": [
    "## Method for comparison"
   ]
  },
  {
   "cell_type": "code",
   "execution_count": 6,
   "metadata": {},
   "outputs": [
    {
     "data": {
      "image/png": "[encoded data removed]",
      "text/plain": [
       "<Figure size 432x288 with 2 Axes>"
      ]
     },
     "metadata": {
      "needs_background": "light"
     },
     "output_type": "display_data"
    },
    {
     "name": "stdout",
     "output_type": "stream",
     "text": [
      "condition positive:24, prediction positive:16, true_positive:14\n",
      "precision:0.875, recall:0.5833333333333334, f-score:0.7000000000000001, NMI:0.21148939313585813, pearson R:0.4712216733184466\n"
     ]
    }
   ],
   "source": [
    "lam = 1e1\n",
    "L_opt = logdet(X, lam)\n",
    "visualise_L(L_orig, L_opt)\n",
    "precision, recall, f, NMI, R = graph_learning_perf_eval(L_orig, L_opt)\n",
    "print(f\"precision:{precision}, recall:{recall}, f-score:{f}, NMI:{NMI}, pearson R:{R}\")"
   ]
  },
  {
   "cell_type": "code",
   "execution_count": null,
   "metadata": {},
   "outputs": [],
   "source": []
  },
  {
   "cell_type": "code",
   "execution_count": null,
   "metadata": {},
   "outputs": [],
   "source": []
  }
 ],
 "metadata": {
  "kernelspec": {
   "display_name": "Python 3",
   "language": "python",
   "name": "python3"
  },
  "language_info": {
   "codemirror_mode": {
    "name": "ipython",
    "version": 3
   },
   "file_extension": ".py",
   "mimetype": "text/x-python",
   "name": "python",
   "nbconvert_exporter": "python",
   "pygments_lexer": "ipython3",
   "version": "3.6.9"
  }
 },
 "nbformat": 4,
 "nbformat_minor": 4
}
