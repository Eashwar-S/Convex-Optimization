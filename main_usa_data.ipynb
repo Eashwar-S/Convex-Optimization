{
 "cells": [
  {
   "cell_type": "code",
   "execution_count": 1,
   "metadata": {},
   "outputs": [],
   "source": [
    "from synthetic_data import *\n",
    "from projected_gradient_descent import *\n",
    "from alternative_minimization import *\n",
    "from logdet import *\n",
    "from performance_eval import *\n",
    "import pandas as pd\n",
    "from scipy.spatial import distance_matrix"
   ]
  },
  {
   "cell_type": "markdown",
   "metadata": {},
   "source": [
    "## Real Data"
   ]
  },
  {
   "cell_type": "code",
   "execution_count": 2,
   "metadata": {},
   "outputs": [],
   "source": [
    "df_graph = pd.read_csv('USA_graph_data.txt', header=None)\n",
    "feat = df_graph.values[:, 2:].astype(np.float)\n",
    "feat = feat - np.mean(feat)\n",
    "feat = feat / np.std(feat)\n",
    "W = np.exp(-(distance_matrix(feat,feat)**2)/1)\n",
    "L_orig = np.diag(np.sum(W, axis=1)) - W\n",
    "\n",
    "df = pd.read_csv('temperatures_6years.csv',header = None)  \n",
    "X = df.values[:, 1:].astype(np.float)\n",
    "X = X - np.mean(X)\n",
    "X = X / np.std(X)"
   ]
  },
  {
   "cell_type": "markdown",
   "metadata": {},
   "source": [
    "## Alternative Minimization (Primal formulation for $L$)"
   ]
  },
  {
   "cell_type": "code",
   "execution_count": 3,
   "metadata": {},
   "outputs": [
    {
     "name": "stdout",
     "output_type": "stream",
     "text": [
      "iteration #0\n",
      "primal value is 12.769234319339425\n",
      "iteration-0: obj value = 12.761593589990303\n",
      "iteration #1\n",
      "primal value is 12.75347864397708\n",
      "iteration-1: obj value = 12.761373695319495\n",
      "iteration #2\n",
      "primal value is 12.753437050821967\n",
      "iteration-2: obj value = 12.761375325801714\n"
     ]
    },
    {
     "data": {
      "image/png": "[encoded data removed]",
      "text/plain": [
       "<Figure size 432x288 with 2 Axes>"
      ]
     },
     "metadata": {
      "needs_background": "light"
     },
     "output_type": "display_data"
    },
    {
     "name": "stdout",
     "output_type": "stream",
     "text": [
      "condition positive:100, prediction positive:63, true_positive:61\n",
      "precision:0.9682539682539683, recall:0.61, f-score:0.7484662576687117, NMI:0.011312350790540375, pearson R:0.6475157961791904\n"
     ]
    },
    {
     "name": "stderr",
     "output_type": "stream",
     "text": [
      "/home/psycuser/.local/lib/python3.6/site-packages/sklearn/metrics/cluster/supervised.py:859: FutureWarning: The behavior of NMI will change in version 0.22. To match the behavior of 'v_measure_score', NMI will use average_method='arithmetic' by default.\n",
      "  FutureWarning)\n"
     ]
    }
   ],
   "source": [
    "alpha = 1e-2\n",
    "beta = 10**(-0.2)\n",
    "num_iters = 1000\n",
    "\n",
    "L_opt, Y_opt = alternative_minimization(X, alpha=alpha, beta=beta, num_iters=num_iters, dual=False)\n",
    "visualise_L(L_orig, L_opt)\n",
    "precision, recall, f, NMI, R = graph_learning_perf_eval(L_orig, L_opt)\n",
    "print(f\"precision:{precision}, recall:{recall}, f-score:{f}, NMI:{NMI}, pearson R:{R}\")"
   ]
  },
  {
   "cell_type": "markdown",
   "metadata": {},
   "source": [
    "## Alternative Minimization (Dual formulation for $L$)"
   ]
  },
  {
   "cell_type": "code",
   "execution_count": 4,
   "metadata": {},
   "outputs": [
    {
     "name": "stdout",
     "output_type": "stream",
     "text": [
      "iteration #0\n",
      "dual value is 12.768549185158047\n",
      "iteration-0: obj value = 12.760963988758423\n",
      "iteration #1\n",
      "dual value is 12.753424792122951\n",
      "iteration-1: obj value = 12.760942187035436\n"
     ]
    },
    {
     "data": {
      "image/png": "[encoded data removed]",
      "text/plain": [
       "<Figure size 432x288 with 2 Axes>"
      ]
     },
     "metadata": {
      "needs_background": "light"
     },
     "output_type": "display_data"
    },
    {
     "name": "stdout",
     "output_type": "stream",
     "text": [
      "condition positive:100, prediction positive:61, true_positive:61\n",
      "precision:1.0, recall:0.61, f-score:0.7577639751552795, NMI:0.11939983101722682, pearson R:0.6474524201217738\n"
     ]
    }
   ],
   "source": [
    "alpha = 1e-2\n",
    "beta = 10**(-0.2)\n",
    "num_iters = 10\n",
    "\n",
    "L_opt, Y_opt = alternative_minimization(X, alpha=alpha, beta=beta, num_iters=num_iters, dual=True)\n",
    "visualise_L(L_orig, L_opt)\n",
    "precision, recall, f, NMI, R = graph_learning_perf_eval(L_orig, L_opt)\n",
    "print(f\"precision:{precision}, recall:{recall}, f-score:{f}, NMI:{NMI}, pearson R:{R}\")"
   ]
  },
  {
   "cell_type": "markdown",
   "metadata": {},
   "source": [
    "## Projected Gradient Descent"
   ]
  },
  {
   "cell_type": "code",
   "execution_count": 5,
   "metadata": {},
   "outputs": [
    {
     "name": "stdout",
     "output_type": "stream",
     "text": [
      "final objective value = 12.761668135021557\n",
      "final objective value = 12.762811921839567\n",
      "final objective value = 12.762366898482727\n",
      "final objective value = 12.762650677389995\n",
      "final objective value = 12.761624963619518\n",
      "final objective value = 12.76239989275041\n",
      "final objective value = 12.76402371371988\n",
      "final objective value = 12.762526732616964\n",
      "final objective value = 12.762448805023759\n",
      "final objective value = 12.761594375536523\n"
     ]
    },
    {
     "data": {
      "image/png": "[encoded data removed]",
      "text/plain": [
       "<Figure size 432x288 with 2 Axes>"
      ]
     },
     "metadata": {
      "needs_background": "light"
     },
     "output_type": "display_data"
    },
    {
     "name": "stdout",
     "output_type": "stream",
     "text": [
      "condition positive:100, prediction positive:61, true_positive:61\n",
      "precision:1.0, recall:0.61, f-score:0.7577639751552795, NMI:0.11939983101722682, pearson R:0.64581339701956\n"
     ]
    }
   ],
   "source": [
    "n, p = X.shape\n",
    "alpha = 1e-2\n",
    "beta = 10**(-0.2)\n",
    "num_iters = 1000\n",
    "eta_L = 0.1\n",
    "eta_Y = 0.1\n",
    "    \n",
    "num_inits = 10\n",
    "objective_values = np.zeros((num_inits))\n",
    "L_opt_values = np.zeros((n, n, num_inits))\n",
    "Y_opt_values = np.zeros((n, p, num_inits))\n",
    "\n",
    "for idx_init in range(num_inits):\n",
    "\n",
    "    L_init = project_L(np.random.rand(n,n))\n",
    "\n",
    "    ret_tuple = proj_grad_descent(X, alpha=alpha, beta=beta, L_init=L_init, \n",
    "                                  num_iters=num_iters, eta_L=eta_L, eta_Y=eta_Y)\n",
    "   \n",
    "    L_opt_values[:, :, idx_init] = ret_tuple[0]\n",
    "    Y_opt_values[:, :, idx_init] = ret_tuple[1]\n",
    "    objective_values[idx_init] = ret_tuple[2]\n",
    "\n",
    "idx_init_best = np.argmin(objective_values)\n",
    "L_opt = L_opt_values[:, :, idx_init_best]\n",
    "Y_opt = Y_opt_values[:, :, idx_init_best]\n",
    "visualise_L(L_orig, L_opt)\n",
    "precision, recall, f, NMI, R = graph_learning_perf_eval(L_orig, L_opt)\n",
    "print(f\"precision:{precision}, recall:{recall}, f-score:{f}, NMI:{NMI}, pearson R:{R}\")"
   ]
  },
  {
   "cell_type": "markdown",
   "metadata": {},
   "source": [
    "## Method for comparison"
   ]
  },
  {
   "cell_type": "code",
   "execution_count": 6,
   "metadata": {},
   "outputs": [
    {
     "name": "stderr",
     "output_type": "stream",
     "text": [
      "/home/psycuser/.local/lib/python3.6/site-packages/cvxpy/problems/problem.py:1061: UserWarning: Solution may be inaccurate. Try another solver, adjusting the solver settings, or solve with verbose=True for more information.\n",
      "  \"Solution may be inaccurate. Try another solver, \"\n"
     ]
    },
    {
     "data": {
      "image/png": "[encoded data removed]",
      "text/plain": [
       "<Figure size 432x288 with 2 Axes>"
      ]
     },
     "metadata": {
      "needs_background": "light"
     },
     "output_type": "display_data"
    },
    {
     "name": "stdout",
     "output_type": "stream",
     "text": [
      "condition positive:100, prediction positive:28, true_positive:28\n",
      "precision:1.0, recall:0.28, f-score:0.43750000000000006, NMI:0.04561161068070717, pearson R:0.507359612589318\n"
     ]
    }
   ],
   "source": [
    "lam = 1e1\n",
    "L_opt = logdet(X, lam)\n",
    "visualise_L(L_orig, L_opt)\n",
    "precision, recall, f, NMI, R = graph_learning_perf_eval(L_orig, L_opt)\n",
    "print(f\"precision:{precision}, recall:{recall}, f-score:{f}, NMI:{NMI}, pearson R:{R}\")"
   ]
  },
  {
   "cell_type": "code",
   "execution_count": null,
   "metadata": {},
   "outputs": [],
   "source": []
  }
 ],
 "metadata": {
  "kernelspec": {
   "display_name": "Python 3",
   "language": "python",
   "name": "python3"
  },
  "language_info": {
   "codemirror_mode": {
    "name": "ipython",
    "version": 3
   },
   "file_extension": ".py",
   "mimetype": "text/x-python",
   "name": "python",
   "nbconvert_exporter": "python",
   "pygments_lexer": "ipython3",
   "version": "3.6.9"
  }
 },
 "nbformat": 4,
 "nbformat_minor": 4
}
