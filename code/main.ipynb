{
 "cells": [
  {
   "cell_type": "code",
   "execution_count": 1,
   "metadata": {},
   "outputs": [],
   "source": [
    "from synthetic_data import *\n",
    "from projected_gradient_descent import *\n",
    "from alternative_minimization import *\n",
    "from logdet import *\n",
    "from performance_eval import *"
   ]
  },
  {
   "cell_type": "markdown",
   "metadata": {},
   "source": [
    "## Synthetic Data"
   ]
  },
  {
   "cell_type": "code",
   "execution_count": 2,
   "metadata": {},
   "outputs": [],
   "source": [
    "n, p = 5, 1000\n",
    "L_orig, X = make_data(n=n, p=p)"
   ]
  },
  {
   "cell_type": "markdown",
   "metadata": {},
   "source": [
    "## Alternative Minimization (Primal formulation for $L$)"
   ]
  },
  {
   "cell_type": "code",
   "execution_count": 3,
   "metadata": {},
   "outputs": [
    {
     "name": "stdout",
     "output_type": "stream",
     "text": [
      "primal value is 43.44147230227332\n",
      "iteration-0: obj value = 42.81607403773252\n",
      "primal value is 42.19607905898163\n",
      "iteration-1: obj value = 42.80838150126576\n",
      "primal value is 42.18125163639881\n",
      "iteration-2: obj value = 42.808182520355935\n",
      "primal value is 42.17937059216179\n",
      "iteration-3: obj value = 42.808203398727755\n"
     ]
    },
    {
     "data": {
      "image/png": "[encoded data removed]",
      "text/plain": [
       "<Figure size 432x288 with 2 Axes>"
      ]
     },
     "metadata": {
      "needs_background": "light"
     },
     "output_type": "display_data"
    }
   ],
   "source": [
    "alpha = 1e-2\n",
    "beta = 10**(-0.2)\n",
    "num_iters = 10\n",
    "\n",
    "L_opt, Y_opt = alternative_minimization(X, alpha=alpha, beta=beta, num_iters=num_iters, dual=False)\n",
    "visualise_L(L_orig, L_opt)"
   ]
  },
  {
   "cell_type": "markdown",
   "metadata": {},
   "source": [
    "## Alternative Minimization (Dual formulation for $L$)"
   ]
  },
  {
   "cell_type": "code",
   "execution_count": 4,
   "metadata": {},
   "outputs": [
    {
     "name": "stdout",
     "output_type": "stream",
     "text": [
      "dual value is 43.441504650746865\n",
      "iteration-0: obj value = 42.816136376148734\n",
      "dual value is 42.19632533837355\n",
      "iteration-1: obj value = 42.808356211965766\n",
      "dual value is 42.181294079431744\n",
      "iteration-2: obj value = 42.80823213244126\n",
      "dual value is 42.17938906313263\n",
      "iteration-3: obj value = 42.80823010086517\n"
     ]
    },
    {
     "data": {
      "image/png": "[encoded data removed]",
      "text/plain": [
       "<Figure size 432x288 with 2 Axes>"
      ]
     },
     "metadata": {
      "needs_background": "light"
     },
     "output_type": "display_data"
    }
   ],
   "source": [
    "alpha = 1e-2\n",
    "beta = 10**(-0.2)\n",
    "num_iters = 10\n",
    "\n",
    "L_opt, Y_opt = alternative_minimization(X, alpha=alpha, beta=beta, num_iters=num_iters, dual=True)\n",
    "visualise_L(L_orig, L_opt)"
   ]
  },
  {
   "cell_type": "markdown",
   "metadata": {},
   "source": [
    "## Projected Gradient Descent"
   ]
  },
  {
   "cell_type": "code",
   "execution_count": 5,
   "metadata": {},
   "outputs": [
    {
     "name": "stdout",
     "output_type": "stream",
     "text": [
      "final objective value = 42.808562841124065\n",
      "final objective value = 42.808856042425546\n",
      "final objective value = 42.80857537652894\n",
      "final objective value = 42.808856262780935\n",
      "final objective value = 42.808410703318216\n",
      "final objective value = 42.80885641230722\n",
      "final objective value = 42.8079115123616\n",
      "final objective value = 42.80885601867629\n",
      "final objective value = 42.807972844471166\n",
      "final objective value = 42.80810158885568\n"
     ]
    },
    {
     "data": {
      "image/png": "[encoded data removed]",
      "text/plain": [
       "<Figure size 432x288 with 2 Axes>"
      ]
     },
     "metadata": {
      "needs_background": "light"
     },
     "output_type": "display_data"
    }
   ],
   "source": [
    "alpha = 1e-2\n",
    "beta = 10**(-0.2)\n",
    "num_iters = 1000\n",
    "eta_L = 0.5\n",
    "eta_Y = 0.5\n",
    "    \n",
    "num_inits = 10\n",
    "objective_values = np.zeros((num_inits))\n",
    "L_opt_values = np.zeros((n, n, num_inits))\n",
    "Y_opt_values = np.zeros((n, p, num_inits))\n",
    "\n",
    "for idx_init in range(num_inits):\n",
    "\n",
    "    L_init = project_L(np.random.rand(n,n))\n",
    "\n",
    "    ret_tuple = proj_grad_descent(X, alpha=alpha, beta=beta, L_init=L_init, \n",
    "                                  num_iters=num_iters, eta_L=eta_L, eta_Y=eta_Y)\n",
    "   \n",
    "    L_opt_values[:, :, idx_init] = ret_tuple[0]\n",
    "    Y_opt_values[:, :, idx_init] = ret_tuple[1]\n",
    "    objective_values[idx_init] = ret_tuple[2]\n",
    "\n",
    "idx_init_best = np.argmin(objective_values)\n",
    "L_opt = L_opt_values[:, :, idx_init_best]\n",
    "Y_opt = Y_opt_values[:, :, idx_init_best]\n",
    "visualise_L(L_orig, L_opt)"
   ]
  },
  {
   "cell_type": "markdown",
   "metadata": {},
   "source": [
    "## Method for comparison"
   ]
  },
  {
   "cell_type": "code",
   "execution_count": 6,
   "metadata": {},
   "outputs": [
    {
     "data": {
      "image/png": "[encoded data removed]",
      "text/plain": [
       "<Figure size 432x288 with 2 Axes>"
      ]
     },
     "metadata": {
      "needs_background": "light"
     },
     "output_type": "display_data"
    }
   ],
   "source": [
    "lam = 1e1\n",
    "L_opt = logdet(X, lam)\n",
    "visualise_L(L_orig, L_opt)"
   ]
  },
  {
   "cell_type": "code",
   "execution_count": null,
   "metadata": {},
   "outputs": [],
   "source": []
  }
 ],
 "metadata": {
  "kernelspec": {
   "display_name": "Python 3",
   "language": "python",
   "name": "python3"
  },
  "language_info": {
   "codemirror_mode": {
    "name": "ipython",
    "version": 3
   },
   "file_extension": ".py",
   "mimetype": "text/x-python",
   "name": "python",
   "nbconvert_exporter": "python",
   "pygments_lexer": "ipython3",
   "version": "3.6.9"
  }
 },
 "nbformat": 4,
 "nbformat_minor": 4
}
